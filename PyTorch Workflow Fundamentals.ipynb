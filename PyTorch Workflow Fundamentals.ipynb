{
 "cells": [
  {
   "cell_type": "code",
   "execution_count": 178,
   "id": "c0f6e14f",
   "metadata": {},
   "outputs": [
    {
     "data": {
      "text/plain": [
       "'2.1.0'"
      ]
     },
     "execution_count": 178,
     "metadata": {},
     "output_type": "execute_result"
    }
   ],
   "source": [
    "import torch \n",
    "from torch import nn\n",
    "import matplotlib.pyplot as plt\n",
    "\n",
    "# check pytorch version\n",
    "torch.__version__"
   ]
  },
  {
   "cell_type": "markdown",
   "id": "59d2c591",
   "metadata": {},
   "source": [
    "# Data (preparing and loading)"
   ]
  },
  {
   "cell_type": "code",
   "execution_count": 179,
   "id": "68f9e2ec",
   "metadata": {},
   "outputs": [
    {
     "data": {
      "text/plain": [
       "(tensor([[0.0000],\n",
       "         [0.0200],\n",
       "         [0.0400],\n",
       "         [0.0600],\n",
       "         [0.0800],\n",
       "         [0.1000],\n",
       "         [0.1200],\n",
       "         [0.1400],\n",
       "         [0.1600],\n",
       "         [0.1800]]),\n",
       " tensor([[0.3000],\n",
       "         [0.3140],\n",
       "         [0.3280],\n",
       "         [0.3420],\n",
       "         [0.3560],\n",
       "         [0.3700],\n",
       "         [0.3840],\n",
       "         [0.3980],\n",
       "         [0.4120],\n",
       "         [0.4260]]))"
      ]
     },
     "execution_count": 179,
     "metadata": {},
     "output_type": "execute_result"
    }
   ],
   "source": [
    "# create \"known\" parameters\n",
    "weight = 0.7\n",
    "bias = 0.3\n",
    "# create data\n",
    "start = 0\n",
    "end = 1\n",
    "step = 0.02\n",
    "X = torch.arange(start, end, step).unsqueeze(dim=1)\n",
    "y = weight * X + bias\n",
    "\n",
    "X[:10], y[:10]"
   ]
  },
  {
   "cell_type": "markdown",
   "id": "7adbc767",
   "metadata": {},
   "source": [
    "## Split data into training and test sets"
   ]
  },
  {
   "cell_type": "code",
   "execution_count": 180,
   "id": "a30de6d4",
   "metadata": {},
   "outputs": [
    {
     "data": {
      "text/plain": [
       "(40, 40, 10, 10)"
      ]
     },
     "execution_count": 180,
     "metadata": {},
     "output_type": "execute_result"
    }
   ],
   "source": [
    "# create train/test split\n",
    "\n",
    "train_split = int(0.8 * len(X))\n",
    "X_train, y_train = X[:train_split], y[: train_split]\n",
    "X_test, y_test = X[train_split:], y[train_split:]\n",
    "len(X_train), len(y_train), len(X_test), len(y_test)"
   ]
  },
  {
   "cell_type": "code",
   "execution_count": 181,
   "id": "dd8c2e71",
   "metadata": {},
   "outputs": [],
   "source": [
    "def plot_predictions(train_data=X_train,\n",
    "                    train_labels=y_train,\n",
    "                    test_data=X_test,\n",
    "                    test_labels=y_test,\n",
    "                    predictions=None):\n",
    "    plt.figure(figsize=(10,7))\n",
    "    plt.scatter(train_data, train_labels, c=\"b\", s=4, label=\"Training Data\")\n",
    "    plt.scatter(test_data, test_labels, c=\"r\", s=4, label=\"Testing Data\")\n",
    "    if predictions is not None:\n",
    "        plt.scatter(test_data, predictions, c=\"g\", s=4, label=\"Prediction\")\n",
    "    plt.legend(prop={\"size\": 14})"
   ]
  },
  {
   "cell_type": "code",
   "execution_count": 182,
   "id": "5a774070",
   "metadata": {},
   "outputs": [
    {
     "data": {
      "image/png": "[encoded data removed]",
      "text/plain": [
       "<Figure size 1000x700 with 1 Axes>"
      ]
     },
     "metadata": {},
     "output_type": "display_data"
    }
   ],
   "source": [
    "plot_predictions()"
   ]
  },
  {
   "cell_type": "markdown",
   "id": "2887a4d6",
   "metadata": {},
   "source": [
    "## Build model"
   ]
  },
  {
   "cell_type": "code",
   "execution_count": 183,
   "id": "8b4d2e8e",
   "metadata": {},
   "outputs": [],
   "source": [
    "class LinearRgression(nn.Module):\n",
    "    def __init__(self):\n",
    "        super().__init__()\n",
    "        self.weights = nn.Parameter(torch.randn(1, dtype=torch.float), requires_grad=True)\n",
    "        self.bias = nn.Parameter(torch.randn(1, dtype=torch.float), requires_grad=True)\n",
    "    def forward(self, x: torch.Tensor) -> torch.Tensor:\n",
    "        return self.weights * x + self.bias\n"
   ]
  },
  {
   "cell_type": "markdown",
   "id": "2741f1d6",
   "metadata": {},
   "source": [
    "## Checking the contents of a pytorch model "
   ]
  },
  {
   "cell_type": "code",
   "execution_count": 184,
   "id": "e4041285",
   "metadata": {},
   "outputs": [
    {
     "data": {
      "text/plain": [
       "[Parameter containing:\n",
       " tensor([0.3367], requires_grad=True),\n",
       " Parameter containing:\n",
       " tensor([0.1288], requires_grad=True)]"
      ]
     },
     "execution_count": 184,
     "metadata": {},
     "output_type": "execute_result"
    }
   ],
   "source": [
    "torch.manual_seed(42)\n",
    "model_0 = LinearRgression()\n",
    "list(model_0.parameters())"
   ]
  },
  {
   "cell_type": "code",
   "execution_count": 185,
   "id": "78ccde0a",
   "metadata": {},
   "outputs": [
    {
     "data": {
      "text/plain": [
       "OrderedDict([('weights', tensor([0.3367])), ('bias', tensor([0.1288]))])"
      ]
     },
     "execution_count": 185,
     "metadata": {},
     "output_type": "execute_result"
    }
   ],
   "source": [
    "model_0.state_dict()"
   ]
  },
  {
   "cell_type": "markdown",
   "id": "5f107148",
   "metadata": {},
   "source": [
    "## Making predictions using torch.inference_mode()"
   ]
  },
  {
   "cell_type": "code",
   "execution_count": 186,
   "id": "dce31798",
   "metadata": {},
   "outputs": [],
   "source": [
    "with torch.inference_mode():\n",
    "    y_preds = model_0(X_test)"
   ]
  },
  {
   "cell_type": "code",
   "execution_count": 187,
   "id": "51772491",
   "metadata": {},
   "outputs": [
    {
     "name": "stdout",
     "output_type": "stream",
     "text": [
      "Testing sample: 10\n",
      "Number of predictions made: 10\n",
      "Prediction's values: \n",
      "tensor([[0.3982],\n",
      "        [0.4049],\n",
      "        [0.4116],\n",
      "        [0.4184],\n",
      "        [0.4251],\n",
      "        [0.4318],\n",
      "        [0.4386],\n",
      "        [0.4453],\n",
      "        [0.4520],\n",
      "        [0.4588]])\n"
     ]
    }
   ],
   "source": [
    "print(f\"Testing sample: {len(X_test)}\")\n",
    "print(f\"Number of predictions made: {len(y_preds)}\")\n",
    "print(f\"Prediction's values: \\n{y_preds}\")"
   ]
  },
  {
   "cell_type": "code",
   "execution_count": 188,
   "id": "5ce9ac4e",
   "metadata": {},
   "outputs": [
    {
     "data": {
      "image/png": "[encoded data removed]",
      "text/plain": [
       "<Figure size 1000x700 with 1 Axes>"
      ]
     },
     "metadata": {},
     "output_type": "display_data"
    }
   ],
   "source": [
    "plot_predictions(predictions=y_preds)"
   ]
  },
  {
   "cell_type": "markdown",
   "id": "989dd36a",
   "metadata": {},
   "source": [
    "# Train model "
   ]
  },
  {
   "cell_type": "markdown",
   "id": "b4457edc",
   "metadata": {},
   "source": [
    "## Creating a loss function and optimizer in pytorch "
   ]
  },
  {
   "cell_type": "code",
   "execution_count": 189,
   "id": "2aec8de2",
   "metadata": {},
   "outputs": [],
   "source": [
    "loss_fn = nn.L1Loss() # MAE\n",
    "optimizer = torch.optim.SGD(params=model_0.parameters(), lr=0.01)"
   ]
  },
  {
   "cell_type": "code",
   "execution_count": 190,
   "id": "3ac44c43",
   "metadata": {},
   "outputs": [
    {
     "name": "stdout",
     "output_type": "stream",
     "text": [
      "Epoch: 0 | MAE Train Loss: 0.31288138031959534 | MAE Test loss: 0.48106518387794495\n",
      "Epoch: 10 | MAE Train Loss: 0.1976713240146637 | MAE Test loss: 0.3463551998138428\n",
      "Epoch: 20 | MAE Train Loss: 0.08908725529909134 | MAE Test loss: 0.21729660034179688\n",
      "Epoch: 30 | MAE Train Loss: 0.053148526698350906 | MAE Test loss: 0.14464017748832703\n",
      "Epoch: 40 | MAE Train Loss: 0.04543796554207802 | MAE Test loss: 0.11360953003168106\n",
      "Epoch: 50 | MAE Train Loss: 0.04167863354086876 | MAE Test loss: 0.09919948130846024\n",
      "Epoch: 60 | MAE Train Loss: 0.03818932920694351 | MAE Test loss: 0.08886633068323135\n",
      "Epoch: 70 | MAE Train Loss: 0.03476089984178543 | MAE Test loss: 0.0805937647819519\n",
      "Epoch: 80 | MAE Train Loss: 0.03132382780313492 | MAE Test loss: 0.07232122868299484\n",
      "Epoch: 90 | MAE Train Loss: 0.02788739837706089 | MAE Test loss: 0.06473556160926819\n",
      "Epoch: 100 | MAE Train Loss: 0.024458957836031914 | MAE Test loss: 0.05646304413676262\n",
      "Epoch: 110 | MAE Train Loss: 0.021020207554101944 | MAE Test loss: 0.04819049686193466\n",
      "Epoch: 120 | MAE Train Loss: 0.01758546568453312 | MAE Test loss: 0.04060482233762741\n",
      "Epoch: 130 | MAE Train Loss: 0.014155393466353416 | MAE Test loss: 0.03233227878808975\n",
      "Epoch: 140 | MAE Train Loss: 0.010716589167714119 | MAE Test loss: 0.024059748277068138\n",
      "Epoch: 150 | MAE Train Loss: 0.0072835334576666355 | MAE Test loss: 0.016474086791276932\n",
      "Epoch: 160 | MAE Train Loss: 0.0038517764769494534 | MAE Test loss: 0.008201557211577892\n",
      "Epoch: 170 | MAE Train Loss: 0.008932482451200485 | MAE Test loss: 0.005023092031478882\n",
      "Epoch: 180 | MAE Train Loss: 0.008932482451200485 | MAE Test loss: 0.005023092031478882\n",
      "Epoch: 190 | MAE Train Loss: 0.008932482451200485 | MAE Test loss: 0.005023092031478882\n"
     ]
    }
   ],
   "source": [
    "torch.manual_seed(42)\n",
    "\n",
    "# set the number of epochs\n",
    "epochs = 200\n",
    "train_loss_values = []\n",
    "test_loss_values = []\n",
    "epoch_count = []\n",
    "\n",
    "for epoch in range(epochs):\n",
    "    ## Training loop\n",
    "    # Put model in training mode\n",
    "    model_0.train()\n",
    "    \n",
    "    # 1. Forward pass on train data \n",
    "    y_pred = model_0(X_train)\n",
    "    # 2. Loss\n",
    "    loss = loss_fn(y_train, y_pred)\n",
    "    # 3. Zero grad of the optimizer\n",
    "    optimizer.zero_grad()\n",
    "    # 4. Loss Backwards\n",
    "    loss.backward()\n",
    "    # 5. Progress the optimizer\n",
    "    optimizer.step()\n",
    "    \n",
    "    ## Testing loop\n",
    "    # Put the model in evaluation mode \n",
    "    model_0.eval()\n",
    "    # 1. Forward pass on the test data\n",
    "    test_pred = model_0(X_test)\n",
    "    # 2. Calculate loss on test data\n",
    "    test_loss = loss_fn(test_pred, y_test.type(torch.float))\n",
    "    # 3. Print\n",
    "    if epoch % 10 == 0:\n",
    "        epoch_count.append(epoch)\n",
    "        train_loss_values.append(loss.detach().numpy())\n",
    "        test_loss_values.append(test_loss.detach().numpy())\n",
    "        print(f\"Epoch: {epoch} | MAE Train Loss: {loss} | MAE Test loss: {test_loss}\")"
   ]
  },
  {
   "cell_type": "code",
   "execution_count": 191,
   "id": "18a12615",
   "metadata": {},
   "outputs": [
    {
     "data": {
      "text/plain": [
       "OrderedDict([('weights', tensor([0.6990])), ('bias', tensor([0.3093]))])"
      ]
     },
     "execution_count": 191,
     "metadata": {},
     "output_type": "execute_result"
    }
   ],
   "source": [
    "model_0.state_dict()"
   ]
  },
  {
   "cell_type": "code",
   "execution_count": 192,
   "id": "3286a9f2",
   "metadata": {},
   "outputs": [
    {
     "data": {
      "text/plain": [
       "<matplotlib.legend.Legend at 0x1ceb478a890>"
      ]
     },
     "execution_count": 192,
     "metadata": {},
     "output_type": "execute_result"
    },
    {
     "data": {
      "image/png": "[encoded data removed]",
      "text/plain": [
       "<Figure size 640x480 with 1 Axes>"
      ]
     },
     "metadata": {},
     "output_type": "display_data"
    }
   ],
   "source": [
    "# plot the loss curve\n",
    "plt.plot(epoch_count, train_loss_values, label=\"Train loss\")\n",
    "plt.plot(epoch_count, test_loss_values, label=\"Test loss\")\n",
    "plt.title(\"Traing and Tesing Loss Curve\")\n",
    "plt.ylabel(\"Loss\")\n",
    "plt.xlabel(\"epoch\")\n",
    "plt.legend()"
   ]
  },
  {
   "cell_type": "code",
   "execution_count": 193,
   "id": "097e98d5",
   "metadata": {},
   "outputs": [
    {
     "data": {
      "text/plain": [
       "[array(0.31288138, dtype=float32),\n",
       " array(0.19767132, dtype=float32),\n",
       " array(0.08908726, dtype=float32),\n",
       " array(0.05314853, dtype=float32),\n",
       " array(0.04543797, dtype=float32),\n",
       " array(0.04167863, dtype=float32),\n",
       " array(0.03818933, dtype=float32),\n",
       " array(0.0347609, dtype=float32),\n",
       " array(0.03132383, dtype=float32),\n",
       " array(0.0278874, dtype=float32),\n",
       " array(0.02445896, dtype=float32),\n",
       " array(0.02102021, dtype=float32),\n",
       " array(0.01758547, dtype=float32),\n",
       " array(0.01415539, dtype=float32),\n",
       " array(0.01071659, dtype=float32),\n",
       " array(0.00728353, dtype=float32),\n",
       " array(0.00385178, dtype=float32),\n",
       " array(0.00893248, dtype=float32),\n",
       " array(0.00893248, dtype=float32),\n",
       " array(0.00893248, dtype=float32)]"
      ]
     },
     "execution_count": 193,
     "metadata": {},
     "output_type": "execute_result"
    }
   ],
   "source": [
    "train_loss_values"
   ]
  },
  {
   "cell_type": "code",
   "execution_count": 194,
   "id": "4d213a60",
   "metadata": {},
   "outputs": [
    {
     "name": "stdout",
     "output_type": "stream",
     "text": [
      "The model learned the following values for weights and bias:\n",
      "OrderedDict([('weights', tensor([0.6990])), ('bias', tensor([0.3093]))])\n",
      "\n",
      "And the original values for weights and bias are:\n",
      "weights: 0.7, bias: 0.3\n"
     ]
    }
   ],
   "source": [
    "# Find our model's learned parameters\n",
    "print(\"The model learned the following values for weights and bias:\")\n",
    "print(model_0.state_dict())\n",
    "print(\"\\nAnd the original values for weights and bias are:\")\n",
    "print(f\"weights: {weight}, bias: {bias}\")"
   ]
  },
  {
   "cell_type": "markdown",
   "id": "4df6372d",
   "metadata": {},
   "source": [
    "## Making predictions with a trained PyTorch model (inference)"
   ]
  },
  {
   "cell_type": "code",
   "execution_count": 195,
   "id": "c0b9eb9d",
   "metadata": {},
   "outputs": [],
   "source": [
    "model_0.eval()\n",
    "\n",
    "with torch.inference_mode():\n",
    "    y_preds = model_0(X_test)"
   ]
  },
  {
   "cell_type": "code",
   "execution_count": 196,
   "id": "cf909e0c",
   "metadata": {},
   "outputs": [
    {
     "data": {
      "text/plain": [
       "tensor([[0.8685],\n",
       "        [0.8825],\n",
       "        [0.8965],\n",
       "        [0.9105],\n",
       "        [0.9245],\n",
       "        [0.9384],\n",
       "        [0.9524],\n",
       "        [0.9664],\n",
       "        [0.9804],\n",
       "        [0.9944]])"
      ]
     },
     "execution_count": 196,
     "metadata": {},
     "output_type": "execute_result"
    }
   ],
   "source": [
    "y_preds"
   ]
  },
  {
   "cell_type": "code",
   "execution_count": 197,
   "id": "4ad41152",
   "metadata": {},
   "outputs": [
    {
     "data": {
      "image/png": "[encoded data removed]",
      "text/plain": [
       "<Figure size 1000x700 with 1 Axes>"
      ]
     },
     "metadata": {},
     "output_type": "display_data"
    }
   ],
   "source": [
    "plot_predictions(predictions=y_preds)"
   ]
  },
  {
   "cell_type": "markdown",
   "id": "f29f6728",
   "metadata": {},
   "source": [
    "## Saving a PyTorch model's state_dict()"
   ]
  },
  {
   "cell_type": "code",
   "execution_count": 198,
   "id": "3b74892c",
   "metadata": {},
   "outputs": [
    {
     "name": "stdout",
     "output_type": "stream",
     "text": [
      "Saving model to: models\\01_pytorch_workflow_model_0.pth\n"
     ]
    }
   ],
   "source": [
    "from pathlib import Path\n",
    "\n",
    "# 1. create models dictionary\n",
    "MODEL_PATH = Path(\"models\")\n",
    "MODEL_PATH.mkdir(parents=True, exist_ok=True)\n",
    "\n",
    "# 2. create model save path\n",
    "MODEL_NAME = \"01_pytorch_workflow_model_0.pth\"\n",
    "MODEL_SAVE_PATH = MODEL_PATH / MODEL_NAME\n",
    "\n",
    "# 3. Save the model state dict\n",
    "print(f\"Saving model to: {MODEL_SAVE_PATH}\")\n",
    "torch.save(obj=model_0.state_dict(), f=MODEL_SAVE_PATH)"
   ]
  },
  {
   "cell_type": "markdown",
   "id": "2fb738b0",
   "metadata": {},
   "source": [
    "## Loading a saved PyTorch model's state_dict()"
   ]
  },
  {
   "cell_type": "code",
   "execution_count": 199,
   "id": "fa659fbc",
   "metadata": {},
   "outputs": [
    {
     "data": {
      "text/plain": [
       "<All keys matched successfully>"
      ]
     },
     "execution_count": 199,
     "metadata": {},
     "output_type": "execute_result"
    }
   ],
   "source": [
    "# Instantiate a new instance of our model (this will be instantiated with random weights)\n",
    "loaded_model_0 = LinearRgression()\n",
    "\n",
    "# Load the state_dict of our saved model (this will update the new instance of our model with trained weights)\n",
    "loaded_model_0.load_state_dict(torch.load(f=MODEL_SAVE_PATH))"
   ]
  },
  {
   "cell_type": "code",
   "execution_count": 200,
   "id": "fb691d71",
   "metadata": {},
   "outputs": [],
   "source": [
    "loaded_model_0.eval()\n",
    "with torch.inference_mode():\n",
    "    loaded_model_preds = loaded_model_0(X_test)"
   ]
  },
  {
   "cell_type": "code",
   "execution_count": 201,
   "id": "0e8daff6",
   "metadata": {},
   "outputs": [
    {
     "data": {
      "text/plain": [
       "tensor([[True],\n",
       "        [True],\n",
       "        [True],\n",
       "        [True],\n",
       "        [True],\n",
       "        [True],\n",
       "        [True],\n",
       "        [True],\n",
       "        [True],\n",
       "        [True]])"
      ]
     },
     "execution_count": 201,
     "metadata": {},
     "output_type": "execute_result"
    }
   ],
   "source": [
    "y_preds == loaded_model_preds"
   ]
  },
  {
   "cell_type": "markdown",
   "id": "aef44b76",
   "metadata": {},
   "source": [
    "## Putting it all together"
   ]
  },
  {
   "cell_type": "code",
   "execution_count": 202,
   "id": "d404620e",
   "metadata": {},
   "outputs": [
    {
     "data": {
      "text/plain": [
       "'2.1.0'"
      ]
     },
     "execution_count": 202,
     "metadata": {},
     "output_type": "execute_result"
    }
   ],
   "source": [
    "import torch \n",
    "from torch import nn\n",
    "import matplotlib.pyplot as plt\n",
    "\n",
    "torch.__version__"
   ]
  },
  {
   "cell_type": "code",
   "execution_count": 203,
   "id": "380d94a8",
   "metadata": {},
   "outputs": [
    {
     "name": "stdout",
     "output_type": "stream",
     "text": [
      "Using device: cpu\n"
     ]
    }
   ],
   "source": [
    "device = \"cuda\" if torch.cuda.is_available() else \"cpu\"\n",
    "print(f\"Using device: {device}\")"
   ]
  },
  {
   "cell_type": "markdown",
   "id": "de2a2bd8",
   "metadata": {},
   "source": [
    "### Data"
   ]
  },
  {
   "cell_type": "code",
   "execution_count": 204,
   "id": "19e0fbe6",
   "metadata": {},
   "outputs": [
    {
     "data": {
      "text/plain": [
       "(tensor([[0.0000],\n",
       "         [0.0200],\n",
       "         [0.0400],\n",
       "         [0.0600],\n",
       "         [0.0800],\n",
       "         [0.1000],\n",
       "         [0.1200],\n",
       "         [0.1400],\n",
       "         [0.1600],\n",
       "         [0.1800]]),\n",
       " tensor([[0.3000],\n",
       "         [0.3140],\n",
       "         [0.3280],\n",
       "         [0.3420],\n",
       "         [0.3560],\n",
       "         [0.3700],\n",
       "         [0.3840],\n",
       "         [0.3980],\n",
       "         [0.4120],\n",
       "         [0.4260]]))"
      ]
     },
     "execution_count": 204,
     "metadata": {},
     "output_type": "execute_result"
    }
   ],
   "source": [
    "weight = 0.7\n",
    "bias = 0.3\n",
    "\n",
    "start = 0\n",
    "end = 1\n",
    "step = 0.02\n",
    "\n",
    "X = torch.arange(start, end, step).unsqueeze(dim=1)\n",
    "y = weight * X + bias\n",
    "\n",
    "X[:10], y[:10]"
   ]
  },
  {
   "cell_type": "code",
   "execution_count": 205,
   "id": "ccac8cdd",
   "metadata": {},
   "outputs": [
    {
     "data": {
      "text/plain": [
       "(40, 40, 10, 10)"
      ]
     },
     "execution_count": 205,
     "metadata": {},
     "output_type": "execute_result"
    }
   ],
   "source": [
    "# Split data \n",
    "train_split = int(0.8 * len(X))\n",
    "X_train, y_train = X[: train_split], y[: train_split]\n",
    "X_test, y_test = X[train_split:], y[train_split:]\n",
    "\n",
    "len(X_train), len(y_train), len(X_test), len(y_test)"
   ]
  },
  {
   "cell_type": "code",
   "execution_count": 206,
   "id": "4a5c240b",
   "metadata": {},
   "outputs": [
    {
     "data": {
      "image/png": "[encoded data removed]",
      "text/plain": [
       "<Figure size 1000x700 with 1 Axes>"
      ]
     },
     "metadata": {},
     "output_type": "display_data"
    }
   ],
   "source": [
    "plot_predictions(X_train, y_train, X_test, y_test)"
   ]
  },
  {
   "cell_type": "markdown",
   "id": "f54c1420",
   "metadata": {},
   "source": [
    "### Building a Pytorch linear model"
   ]
  },
  {
   "cell_type": "code",
   "execution_count": 207,
   "id": "f48711d2",
   "metadata": {},
   "outputs": [
    {
     "data": {
      "text/plain": [
       "(LinearRegressionModel(\n",
       "   (linear_layer): Linear(in_features=1, out_features=1, bias=True)\n",
       " ),\n",
       " OrderedDict([('linear_layer.weight', tensor([[0.7645]])),\n",
       "              ('linear_layer.bias', tensor([0.8300]))]))"
      ]
     },
     "execution_count": 207,
     "metadata": {},
     "output_type": "execute_result"
    }
   ],
   "source": [
    "class LinearRegressionModel(nn.Module):\n",
    "    def __init__(self):\n",
    "        super().__init__()\n",
    "        \n",
    "        # Initialize model parameters\n",
    "        self.linear_layer = nn.Linear(in_features=1, out_features=1)\n",
    "        \n",
    "    def forward(self, x: torch.Tensor) -> torch.Tensor:\n",
    "        return self.linear_layer(x)\n",
    "    \n",
    "torch.manual_seed(42)\n",
    "model_1 = LinearRegressionModel()\n",
    "model_1, model_1.state_dict()"
   ]
  },
  {
   "cell_type": "code",
   "execution_count": 208,
   "id": "718d4643",
   "metadata": {},
   "outputs": [
    {
     "data": {
      "text/plain": [
       "device(type='cpu')"
      ]
     },
     "execution_count": 208,
     "metadata": {},
     "output_type": "execute_result"
    }
   ],
   "source": [
    "next(model_1.parameters()).device"
   ]
  },
  {
   "cell_type": "markdown",
   "id": "de590505",
   "metadata": {},
   "source": [
    "### Training "
   ]
  },
  {
   "cell_type": "code",
   "execution_count": 209,
   "id": "f7a618ad",
   "metadata": {},
   "outputs": [],
   "source": [
    "loss_fn = nn.L1Loss()\n",
    "optimizer = torch.optim.SGD(params=model_1.parameters(), lr = 0.1)"
   ]
  },
  {
   "cell_type": "code",
   "execution_count": 210,
   "id": "5ad7bbb9",
   "metadata": {},
   "outputs": [
    {
     "name": "stdout",
     "output_type": "stream",
     "text": [
      "Epoch 0 | Training loss: 0.5551779866218567 | Testing loss: 0.4527372419834137\n",
      "Epoch 10 | Training loss: 0.05761389806866646 | Testing loss: 0.11862673610448837\n",
      "Epoch 20 | Training loss: 0.05761389806866646 | Testing loss: 0.11862673610448837\n",
      "Epoch 30 | Training loss: 0.05761389806866646 | Testing loss: 0.11862673610448837\n",
      "Epoch 40 | Training loss: 0.05761389806866646 | Testing loss: 0.11862673610448837\n",
      "Epoch 50 | Training loss: 0.05761389806866646 | Testing loss: 0.11862673610448837\n",
      "Epoch 60 | Training loss: 0.05761389806866646 | Testing loss: 0.11862673610448837\n",
      "Epoch 70 | Training loss: 0.05761389806866646 | Testing loss: 0.11862673610448837\n",
      "Epoch 80 | Training loss: 0.05761389806866646 | Testing loss: 0.11862673610448837\n",
      "Epoch 90 | Training loss: 0.05761389806866646 | Testing loss: 0.11862673610448837\n",
      "Epoch 100 | Training loss: 0.05761389806866646 | Testing loss: 0.11862673610448837\n",
      "Epoch 110 | Training loss: 0.05761389806866646 | Testing loss: 0.11862673610448837\n",
      "Epoch 120 | Training loss: 0.05761389806866646 | Testing loss: 0.11862673610448837\n",
      "Epoch 130 | Training loss: 0.05761389806866646 | Testing loss: 0.11862673610448837\n",
      "Epoch 140 | Training loss: 0.05761389806866646 | Testing loss: 0.11862673610448837\n",
      "Epoch 150 | Training loss: 0.05761389806866646 | Testing loss: 0.11862673610448837\n",
      "Epoch 160 | Training loss: 0.05761389806866646 | Testing loss: 0.11862673610448837\n",
      "Epoch 170 | Training loss: 0.05761389806866646 | Testing loss: 0.11862673610448837\n",
      "Epoch 180 | Training loss: 0.05761389806866646 | Testing loss: 0.11862673610448837\n",
      "Epoch 190 | Training loss: 0.05761389806866646 | Testing loss: 0.11862673610448837\n",
      "Epoch 200 | Training loss: 0.05761389806866646 | Testing loss: 0.11862673610448837\n",
      "Epoch 210 | Training loss: 0.05761389806866646 | Testing loss: 0.11862673610448837\n",
      "Epoch 220 | Training loss: 0.05761389806866646 | Testing loss: 0.11862673610448837\n",
      "Epoch 230 | Training loss: 0.05761389806866646 | Testing loss: 0.11862673610448837\n",
      "Epoch 240 | Training loss: 0.05761389806866646 | Testing loss: 0.11862673610448837\n",
      "Epoch 250 | Training loss: 0.05761389806866646 | Testing loss: 0.11862673610448837\n",
      "Epoch 260 | Training loss: 0.05761389806866646 | Testing loss: 0.11862673610448837\n",
      "Epoch 270 | Training loss: 0.05761389806866646 | Testing loss: 0.11862673610448837\n",
      "Epoch 280 | Training loss: 0.05761389806866646 | Testing loss: 0.11862673610448837\n",
      "Epoch 290 | Training loss: 0.05761389806866646 | Testing loss: 0.11862673610448837\n",
      "Epoch 300 | Training loss: 0.05761389806866646 | Testing loss: 0.11862673610448837\n",
      "Epoch 310 | Training loss: 0.05761389806866646 | Testing loss: 0.11862673610448837\n",
      "Epoch 320 | Training loss: 0.05761389806866646 | Testing loss: 0.11862673610448837\n",
      "Epoch 330 | Training loss: 0.05761389806866646 | Testing loss: 0.11862673610448837\n",
      "Epoch 340 | Training loss: 0.05761389806866646 | Testing loss: 0.11862673610448837\n",
      "Epoch 350 | Training loss: 0.05761389806866646 | Testing loss: 0.11862673610448837\n",
      "Epoch 360 | Training loss: 0.05761389806866646 | Testing loss: 0.11862673610448837\n",
      "Epoch 370 | Training loss: 0.05761389806866646 | Testing loss: 0.11862673610448837\n",
      "Epoch 380 | Training loss: 0.05761389806866646 | Testing loss: 0.11862673610448837\n",
      "Epoch 390 | Training loss: 0.05761389806866646 | Testing loss: 0.11862673610448837\n",
      "Epoch 400 | Training loss: 0.05761389806866646 | Testing loss: 0.11862673610448837\n",
      "Epoch 410 | Training loss: 0.05761389806866646 | Testing loss: 0.11862673610448837\n",
      "Epoch 420 | Training loss: 0.05761389806866646 | Testing loss: 0.11862673610448837\n",
      "Epoch 430 | Training loss: 0.05761389806866646 | Testing loss: 0.11862673610448837\n",
      "Epoch 440 | Training loss: 0.05761389806866646 | Testing loss: 0.11862673610448837\n",
      "Epoch 450 | Training loss: 0.05761389806866646 | Testing loss: 0.11862673610448837\n",
      "Epoch 460 | Training loss: 0.05761389806866646 | Testing loss: 0.11862673610448837\n",
      "Epoch 470 | Training loss: 0.05761389806866646 | Testing loss: 0.11862673610448837\n",
      "Epoch 480 | Training loss: 0.05761389806866646 | Testing loss: 0.11862673610448837\n",
      "Epoch 490 | Training loss: 0.05761389806866646 | Testing loss: 0.11862673610448837\n",
      "Epoch 500 | Training loss: 0.05761389806866646 | Testing loss: 0.11862673610448837\n",
      "Epoch 510 | Training loss: 0.05761389806866646 | Testing loss: 0.11862673610448837\n",
      "Epoch 520 | Training loss: 0.05761389806866646 | Testing loss: 0.11862673610448837\n",
      "Epoch 530 | Training loss: 0.05761389806866646 | Testing loss: 0.11862673610448837\n",
      "Epoch 540 | Training loss: 0.05761389806866646 | Testing loss: 0.11862673610448837\n",
      "Epoch 550 | Training loss: 0.05761389806866646 | Testing loss: 0.11862673610448837\n",
      "Epoch 560 | Training loss: 0.05761389806866646 | Testing loss: 0.11862673610448837\n",
      "Epoch 570 | Training loss: 0.05761389806866646 | Testing loss: 0.11862673610448837\n",
      "Epoch 580 | Training loss: 0.05761389806866646 | Testing loss: 0.11862673610448837\n",
      "Epoch 590 | Training loss: 0.05761389806866646 | Testing loss: 0.11862673610448837\n",
      "Epoch 600 | Training loss: 0.05761389806866646 | Testing loss: 0.11862673610448837\n",
      "Epoch 610 | Training loss: 0.05761389806866646 | Testing loss: 0.11862673610448837\n",
      "Epoch 620 | Training loss: 0.05761389806866646 | Testing loss: 0.11862673610448837\n",
      "Epoch 630 | Training loss: 0.05761389806866646 | Testing loss: 0.11862673610448837\n",
      "Epoch 640 | Training loss: 0.05761389806866646 | Testing loss: 0.11862673610448837\n",
      "Epoch 650 | Training loss: 0.05761389806866646 | Testing loss: 0.11862673610448837\n",
      "Epoch 660 | Training loss: 0.05761389806866646 | Testing loss: 0.11862673610448837\n",
      "Epoch 670 | Training loss: 0.05761389806866646 | Testing loss: 0.11862673610448837\n",
      "Epoch 680 | Training loss: 0.05761389806866646 | Testing loss: 0.11862673610448837\n",
      "Epoch 690 | Training loss: 0.05761389806866646 | Testing loss: 0.11862673610448837\n",
      "Epoch 700 | Training loss: 0.05761389806866646 | Testing loss: 0.11862673610448837\n",
      "Epoch 710 | Training loss: 0.05761389806866646 | Testing loss: 0.11862673610448837\n",
      "Epoch 720 | Training loss: 0.05761389806866646 | Testing loss: 0.11862673610448837\n",
      "Epoch 730 | Training loss: 0.05761389806866646 | Testing loss: 0.11862673610448837\n",
      "Epoch 740 | Training loss: 0.05761389806866646 | Testing loss: 0.11862673610448837\n",
      "Epoch 750 | Training loss: 0.05761389806866646 | Testing loss: 0.11862673610448837\n",
      "Epoch 760 | Training loss: 0.05761389806866646 | Testing loss: 0.11862673610448837\n",
      "Epoch 770 | Training loss: 0.05761389806866646 | Testing loss: 0.11862673610448837\n",
      "Epoch 780 | Training loss: 0.05761389806866646 | Testing loss: 0.11862673610448837\n",
      "Epoch 790 | Training loss: 0.05761389806866646 | Testing loss: 0.11862673610448837\n",
      "Epoch 800 | Training loss: 0.05761389806866646 | Testing loss: 0.11862673610448837\n",
      "Epoch 810 | Training loss: 0.05761389806866646 | Testing loss: 0.11862673610448837\n",
      "Epoch 820 | Training loss: 0.05761389806866646 | Testing loss: 0.11862673610448837\n",
      "Epoch 830 | Training loss: 0.05761389806866646 | Testing loss: 0.11862673610448837\n",
      "Epoch 840 | Training loss: 0.05761389806866646 | Testing loss: 0.11862673610448837\n",
      "Epoch 850 | Training loss: 0.05761389806866646 | Testing loss: 0.11862673610448837\n",
      "Epoch 860 | Training loss: 0.05761389806866646 | Testing loss: 0.11862673610448837\n",
      "Epoch 870 | Training loss: 0.05761389806866646 | Testing loss: 0.11862673610448837\n",
      "Epoch 880 | Training loss: 0.05761389806866646 | Testing loss: 0.11862673610448837\n",
      "Epoch 890 | Training loss: 0.05761389806866646 | Testing loss: 0.11862673610448837\n",
      "Epoch 900 | Training loss: 0.05761389806866646 | Testing loss: 0.11862673610448837\n",
      "Epoch 910 | Training loss: 0.05761389806866646 | Testing loss: 0.11862673610448837\n",
      "Epoch 920 | Training loss: 0.05761389806866646 | Testing loss: 0.11862673610448837\n",
      "Epoch 930 | Training loss: 0.05761389806866646 | Testing loss: 0.11862673610448837\n",
      "Epoch 940 | Training loss: 0.05761389806866646 | Testing loss: 0.11862673610448837\n",
      "Epoch 950 | Training loss: 0.05761389806866646 | Testing loss: 0.11862673610448837\n",
      "Epoch 960 | Training loss: 0.05761389806866646 | Testing loss: 0.11862673610448837\n",
      "Epoch 970 | Training loss: 0.05761389806866646 | Testing loss: 0.11862673610448837\n",
      "Epoch 980 | Training loss: 0.05761389806866646 | Testing loss: 0.11862673610448837\n",
      "Epoch 990 | Training loss: 0.05761389806866646 | Testing loss: 0.11862673610448837\n"
     ]
    }
   ],
   "source": [
    "torch.manual_seed(42)\n",
    "\n",
    "epochs = 1000\n",
    "\n",
    "for epoch in range(epochs):\n",
    "    ### training\n",
    "    model_1.train()\n",
    "    \n",
    "    y_pred = model_1(X_train)\n",
    "    \n",
    "    loss = loss_fn(y_train, y_pred)\n",
    "    \n",
    "    optimizer.zero_grad()\n",
    "    \n",
    "    loss.backward()\n",
    "    \n",
    "    optimizer.step()\n",
    "    \n",
    "    ### testing\n",
    "    \n",
    "    model_1.eval()\n",
    "    \n",
    "    with torch.inference_mode():\n",
    "        test_pred = model_1(X_test)\n",
    "        \n",
    "        test_loss = loss_fn(y_test, test_pred)\n",
    "        \n",
    "    if epoch % 10 == 0:\n",
    "        print(f\"Epoch {epoch} | Training loss: {loss} | Testing loss: {test_loss}\")"
   ]
  },
  {
   "cell_type": "code",
   "execution_count": 211,
   "id": "e860c313",
   "metadata": {},
   "outputs": [
    {
     "data": {
      "text/plain": [
       "OrderedDict([('linear_layer.weight', tensor([[0.6169]])),\n",
       "             ('linear_layer.bias', tensor([0.3900]))])"
      ]
     },
     "execution_count": 211,
     "metadata": {},
     "output_type": "execute_result"
    }
   ],
   "source": []
  },
  {
   "cell_type": "markdown",
   "id": "d732375d",
   "metadata": {},
   "source": [
    "### Making predictions"
   ]
  },
  {
   "cell_type": "code",
   "execution_count": 212,
   "id": "58bf6c52",
   "metadata": {},
   "outputs": [
    {
     "data": {
      "text/plain": [
       "tensor([[0.8836],\n",
       "        [0.8959],\n",
       "        [0.9082],\n",
       "        [0.9206],\n",
       "        [0.9329],\n",
       "        [0.9453],\n",
       "        [0.9576],\n",
       "        [0.9699],\n",
       "        [0.9823],\n",
       "        [0.9946]])"
      ]
     },
     "execution_count": 212,
     "metadata": {},
     "output_type": "execute_result"
    }
   ],
   "source": [
    "model_1.eval()\n",
    "\n",
    "with torch.inference_mode():\n",
    "    test_preds = model_1(X_test)\n",
    "    \n",
    "test_preds"
   ]
  },
  {
   "cell_type": "code",
   "execution_count": 213,
   "id": "d42349e2",
   "metadata": {},
   "outputs": [
    {
     "data": {
      "image/png": "[encoded data removed]",
      "text/plain": [
       "<Figure size 1000x700 with 1 Axes>"
      ]
     },
     "metadata": {},
     "output_type": "display_data"
    }
   ],
   "source": [
    "plot_predictions(predictions=test_preds.cpu())"
   ]
  },
  {
   "cell_type": "markdown",
   "id": "592f6892",
   "metadata": {},
   "source": [
    "### Saving and loading model"
   ]
  },
  {
   "cell_type": "code",
   "execution_count": 214,
   "id": "30fc8554",
   "metadata": {},
   "outputs": [
    {
     "name": "stdout",
     "output_type": "stream",
     "text": [
      "Saving model to: models\\01_pytorch_workflow_model_1.pth\n"
     ]
    }
   ],
   "source": [
    "from pathlib import Path\n",
    "\n",
    "MODEL_PATH = Path(\"models\")\n",
    "MODEL_PATH.mkdir(parents=True, exist_ok=True)\n",
    "\n",
    "MODEL_NAME = \"01_pytorch_workflow_model_1.pth\"\n",
    "MODEL_SAVE_PATH = MODEL_PATH / MODEL_NAME\n",
    "\n",
    "print(f\"Saving model to: {MODEL_SAVE_PATH}\")\n",
    "torch.save(obj=model_1.state_dict(), f=MODEL_SAVE_PATH)"
   ]
  },
  {
   "cell_type": "code",
   "execution_count": 215,
   "id": "65d53b7b",
   "metadata": {},
   "outputs": [
    {
     "data": {
      "text/plain": [
       "<All keys matched successfully>"
      ]
     },
     "execution_count": 215,
     "metadata": {},
     "output_type": "execute_result"
    }
   ],
   "source": [
    "loaded_model_1 = LinearRegressionModel()\n",
    "\n",
    "loaded_model_1.load_state_dict(torch.load(MODEL_SAVE_PATH))"
   ]
  },
  {
   "cell_type": "code",
   "execution_count": 216,
   "id": "48050a65",
   "metadata": {},
   "outputs": [
    {
     "name": "stdout",
     "output_type": "stream",
     "text": [
      "Loaded model:\n",
      "LinearRegressionModel(\n",
      "  (linear_layer): Linear(in_features=1, out_features=1, bias=True)\n",
      ")\n",
      "Model on device:\n",
      "cpu\n"
     ]
    }
   ],
   "source": [
    "print(f\"Loaded model:\\n{loaded_model_1}\")\n",
    "print(f\"Model on device:\\n{next(loaded_model_1.parameters()).device}\")"
   ]
  },
  {
   "cell_type": "code",
   "execution_count": 220,
   "id": "30eca836",
   "metadata": {},
   "outputs": [
    {
     "data": {
      "text/plain": [
       "tensor([[True],\n",
       "        [True],\n",
       "        [True],\n",
       "        [True],\n",
       "        [True],\n",
       "        [True],\n",
       "        [True],\n",
       "        [True],\n",
       "        [True],\n",
       "        [True]])"
      ]
     },
     "execution_count": 220,
     "metadata": {},
     "output_type": "execute_result"
    }
   ],
   "source": [
    "loaded_model_1.eval()\n",
    "\n",
    "with torch.inference_mode():\n",
    "    loaded_pred = loaded_model_1(X_test)\n",
    "test_preds == loaded_pred"
   ]
  },
  {
   "cell_type": "code",
   "execution_count": null,
   "id": "22601b56",
   "metadata": {},
   "outputs": [],
   "source": []
  }
 ],
 "metadata": {
  "kernelspec": {
   "display_name": "Python 3 (ipykernel)",
   "language": "python",
   "name": "python3"
  },
  "language_info": {
   "codemirror_mode": {
    "name": "ipython",
    "version": 3
   },
   "file_extension": ".py",
   "mimetype": "text/x-python",
   "name": "python",
   "nbconvert_exporter": "python",
   "pygments_lexer": "ipython3",
   "version": "3.11.5"
  }
 },
 "nbformat": 4,
 "nbformat_minor": 5
}
